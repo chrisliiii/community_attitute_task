{
 "cells": [
  {
   "cell_type": "markdown",
   "metadata": {},
   "source": [
    "# 2. Crawling tweets using search API\n",
    "\n",
    "## import relevant library"
   ]
  },
  {
   "cell_type": "code",
   "execution_count": 2,
   "metadata": {},
   "outputs": [
    {
     "name": "stdout",
     "output_type": "stream",
     "text": [
      "Requirement already satisfied: tweepy in /Users/apple/anaconda3/lib/python3.6/site-packages\n",
      "Requirement already satisfied: six>=1.10.0 in /Users/apple/anaconda3/lib/python3.6/site-packages (from tweepy)\n",
      "Requirement already satisfied: requests-oauthlib>=0.7.0 in /Users/apple/anaconda3/lib/python3.6/site-packages (from tweepy)\n",
      "Requirement already satisfied: PySocks>=1.5.7 in /Users/apple/anaconda3/lib/python3.6/site-packages (from tweepy)\n",
      "Requirement already satisfied: requests>=2.11.1 in /Users/apple/anaconda3/lib/python3.6/site-packages (from tweepy)\n",
      "Requirement already satisfied: oauthlib>=0.6.2 in /Users/apple/anaconda3/lib/python3.6/site-packages (from requests-oauthlib>=0.7.0->tweepy)\n",
      "Requirement already satisfied: chardet<3.1.0,>=3.0.2 in /Users/apple/anaconda3/lib/python3.6/site-packages (from requests>=2.11.1->tweepy)\n",
      "Requirement already satisfied: idna<2.8,>=2.5 in /Users/apple/anaconda3/lib/python3.6/site-packages (from requests>=2.11.1->tweepy)\n",
      "Requirement already satisfied: certifi>=2017.4.17 in /Users/apple/anaconda3/lib/python3.6/site-packages (from requests>=2.11.1->tweepy)\n",
      "Requirement already satisfied: urllib3<1.24,>=1.21.1 in /Users/apple/anaconda3/lib/python3.6/site-packages (from requests>=2.11.1->tweepy)\n",
      "\u001b[33mYou are using pip version 9.0.1, however version 18.1 is available.\n",
      "You should consider upgrading via the 'pip install --upgrade pip' command.\u001b[0m\n"
     ]
    }
   ],
   "source": [
    "!pip install tweepy\n",
    "\n",
    "import tweepy\n",
    "import json\n",
    "import sys"
   ]
  },
  {
   "cell_type": "markdown",
   "metadata": {},
   "source": [
    "## Collect data using search API\n",
    "\n",
    "After collecting data using stream API, in this part much more tweets will be crawled by using the userID that collected from stream API, and for each specific user, his/her whole timeline will be crawled. Then only the tweets which contain #metoo and #timesup will be stored in the file \"search_tweet.json\".\n",
    "\n",
    "Also this process can aviod duplication since only the user that have not seen before will be processed.\n",
    "\n",
    "**Note:** 219 tweets in total relevant to required hashtags are collected in around 8 hours, please just use these data to do the analysis in the third jupyter notebook for svaing time."
   ]
  },
  {
   "cell_type": "code",
   "execution_count": null,
   "metadata": {},
   "outputs": [],
   "source": [
    "# Consumer keys and access tokens, used for OAuth\n",
    "access_token = \t\"\"\n",
    "access_token_secret = \"\"\n",
    "consumer_key = \"\"\n",
    "consumer_secret = \"\"\n",
    "\n",
    "# OAuth process, using the keys and tokens\n",
    "auth = tweepy.OAuthHandler(consumer_key, consumer_secret)\n",
    "auth.set_access_token(access_token, access_token_secret)\n",
    "\n",
    "# Creation of the actual interface, using authentication\n",
    "api = tweepy.API(auth, wait_on_rate_limit=True)\n",
    "\n",
    "users = []\n",
    "with open(\"stream_tweet.json\") as f:\n",
    "    for line in f:\n",
    "        try:\n",
    "            # Get rid of \"\\n\"\n",
    "            line = line.strip()\n",
    "            if len(line) > 0:\n",
    "                data = json.loads(line)\n",
    "                uid = data[\"user\"][\"id\"]\n",
    "                if uid not in users:\n",
    "                    users.append(uid)\n",
    "                    # Get specific user's whole timeline\n",
    "                    for tweet in tweepy.Cursor(api.user_timeline, id=uid).items():\n",
    "                        data = tweet._json     \n",
    "                        keywd = [\"#metoo\",\"#timesup\"]\n",
    "                        if any(x in data[\"text\"].lower()for x in keywd):\n",
    "                            outf = open(\"search_tweet.json\", 'a+')\n",
    "                            outf.write(json.dumps(data) + \"\\n\")\n",
    "                            outf.close()\n",
    "        except ValueError:\n",
    "            continue\n",
    "        except:\n",
    "            continue"
   ]
  }
 ],
 "metadata": {
  "kernelspec": {
   "display_name": "Python 3",
   "language": "python",
   "name": "python3"
  },
  "language_info": {
   "codemirror_mode": {
    "name": "ipython",
    "version": 3
   },
   "file_extension": ".py",
   "mimetype": "text/x-python",
   "name": "python",
   "nbconvert_exporter": "python",
   "pygments_lexer": "ipython3",
   "version": "3.6.4"
  }
 },
 "nbformat": 4,
 "nbformat_minor": 2
}
