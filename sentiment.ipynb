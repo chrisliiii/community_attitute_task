{
 "cells": [
  {
   "cell_type": "code",
   "execution_count": 24,
   "metadata": {},
   "outputs": [
    {
     "name": "stdout",
     "output_type": "stream",
     "text": [
      "[nltk_data] Downloading package vader_lexicon to\n",
      "[nltk_data]     /Users/apple/nltk_data...\n",
      "[nltk_data]   Package vader_lexicon is already up-to-date!\n"
     ]
    },
    {
     "data": {
      "text/plain": [
       "True"
      ]
     },
     "execution_count": 24,
     "metadata": {},
     "output_type": "execute_result"
    }
   ],
   "source": [
    "import json\n",
    "import matplotlib.pyplot as plt\n",
    "from pylab import *\n",
    "import nltk\n",
    "from nltk.sentiment.vader import SentimentIntensityAnalyzer\n",
    "nltk.download('vader_lexicon')"
   ]
  },
  {
   "cell_type": "code",
   "execution_count": 25,
   "metadata": {},
   "outputs": [],
   "source": [
    "# Calculate number of corresponding tweets for each month\n",
    "def cal_month(month_string, sentiment_list):\n",
    "    if month_string == \"Jan\":\n",
    "        sentiment_list[0] += 1\n",
    "    elif month_string == \"Feb\":\n",
    "        sentiment_list[1] += 1\n",
    "    elif month_string == \"Mar\":\n",
    "        sentiment_list[2] += 1\n",
    "    elif month_string == \"Apr\":\n",
    "        sentiment_list[3] += 1\n",
    "    elif month_string == \"May\":\n",
    "        sentiment_list[4] += 1\n",
    "    elif month_string == \"Jun\":\n",
    "        sentiment_list[5] += 1\n",
    "    elif month_string == \"Jul\":\n",
    "        sentiment_list[6] += 1\n",
    "    elif month_string == \"Aug\":\n",
    "        sentiment_list[7] += 1\n",
    "    elif month_string == \"Sep\":\n",
    "        sentiment_list[8] += 1\n",
    "    elif month_string == \"Oct\":\n",
    "        sentiment_list[9] += 1\n",
    "    elif month_string == \"Nov\":\n",
    "        sentiment_list[10] += 1\n",
    "    elif month_string == \"Dec\":\n",
    "        sentiment_list[11] += 1"
   ]
  },
  {
   "cell_type": "code",
   "execution_count": 34,
   "metadata": {},
   "outputs": [],
   "source": [
    "pos_month = [0,0,0,0,0,0,0,0,0,0,0,0]\n",
    "neg_month = [0,0,0,0,0,0,0,0,0,0,0,0]\n",
    "user = {}\n",
    "\n",
    "with open(\"../search_tweet.json\") as f:\n",
    "    for line in f:\n",
    "        line = line[:-1]\n",
    "        if len(line) > 0:\n",
    "            data = json.loads(line)\n",
    "            result = SentimentIntensityAnalyzer()\n",
    "            res = result.polarity_scores(data[\"text\"])\n",
    "            month = data[\"created_at\"][4:7]\n",
    "            if res[\"pos\"] >= res[\"neg\"]:  \n",
    "                cal_month(month,pos_month)\n",
    "            else: \n",
    "                cal_month(month,neg_month)\n",
    "                uid = data[\"user\"][\"id\"]\n",
    "                if uid in user:\n",
    "                    value = user[uid]\n",
    "                    user[uid] = value+1\n",
    "                else:\n",
    "                    user[uid] = 1"
   ]
  },
  {
   "cell_type": "code",
   "execution_count": 33,
   "metadata": {},
   "outputs": [
    {
     "data": {
      "image/png": "[encoded data removed]",
      "text/plain": [
       "<matplotlib.figure.Figure at 0x11be49978>"
      ]
     },
     "metadata": {},
     "output_type": "display_data"
    }
   ],
   "source": [
    "x = ['Jan', 'Feb', 'Mar', 'Apr', 'May', 'Jun', 'Jul', 'Aug', 'Sep', 'Oct', 'Nov', 'Dec']\n",
    "y1 = pos_month\n",
    "y2 = neg_month\n",
    "plt.figure(figsize=(12,4)) # Set the size of the line chart\n",
    "plt.xticks(arange(len(x)),x) # Customize the x-axis\n",
    "plt.plot(yt,color = \"b\", label=\"Positive\", linewidth=1) # Plot points of positive\n",
    "plt.plot(yt,'ob')\n",
    "\n",
    "plt.plot(yi,color =\"r\", label=\"Negative\", linewidth=1) # Plot points of negative\n",
    "plt.plot(yi,'or')\n",
    "\n",
    "plt.xlabel(\"Month\") # label of x-axis\n",
    "plt.ylabel(\"Number of tweets\")  # label of y-axis\n",
    "plt.title(\"Twitter Sentiment vs Month\") # title of graph\n",
    "plt.legend()\n",
    "plt.show() "
   ]
  },
  {
   "cell_type": "code",
   "execution_count": null,
   "metadata": {},
   "outputs": [],
   "source": [
    "user = sorted(user.items(), key=lambda item:item[1], reverse=True)\n",
    "\n",
    "print(\"Top10 User\")\n",
    "if len(user) < 10:\n",
    "    for i in range(len(user)):    \n",
    "        print(user[i][0])\n",
    "else:\n",
    "    for i in range(10):    \n",
    "        print(user[i][0])"
   ]
  },
  {
   "cell_type": "code",
   "execution_count": null,
   "metadata": {},
   "outputs": [],
   "source": []
  }
 ],
 "metadata": {
  "kernelspec": {
   "display_name": "Python 3",
   "language": "python",
   "name": "python3"
  },
  "language_info": {
   "codemirror_mode": {
    "name": "ipython",
    "version": 3
   },
   "file_extension": ".py",
   "mimetype": "text/x-python",
   "name": "python",
   "nbconvert_exporter": "python",
   "pygments_lexer": "ipython3",
   "version": "3.6.4"
  }
 },
 "nbformat": 4,
 "nbformat_minor": 2
}
