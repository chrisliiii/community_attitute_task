{
 "cells": [
  {
   "cell_type": "code",
   "execution_count": 1,
   "metadata": {},
   "outputs": [
    {
     "name": "stdout",
     "output_type": "stream",
     "text": [
      "Requirement already satisfied: tweepy in /Users/apple/anaconda3/lib/python3.6/site-packages\n",
      "Requirement already satisfied: PySocks>=1.5.7 in /Users/apple/anaconda3/lib/python3.6/site-packages (from tweepy)\n",
      "Requirement already satisfied: six>=1.10.0 in /Users/apple/anaconda3/lib/python3.6/site-packages (from tweepy)\n",
      "Requirement already satisfied: requests>=2.11.1 in /Users/apple/anaconda3/lib/python3.6/site-packages (from tweepy)\n",
      "Requirement already satisfied: requests-oauthlib>=0.7.0 in /Users/apple/anaconda3/lib/python3.6/site-packages (from tweepy)\n",
      "Requirement already satisfied: urllib3<1.24,>=1.21.1 in /Users/apple/anaconda3/lib/python3.6/site-packages (from requests>=2.11.1->tweepy)\n",
      "Requirement already satisfied: certifi>=2017.4.17 in /Users/apple/anaconda3/lib/python3.6/site-packages (from requests>=2.11.1->tweepy)\n",
      "Requirement already satisfied: chardet<3.1.0,>=3.0.2 in /Users/apple/anaconda3/lib/python3.6/site-packages (from requests>=2.11.1->tweepy)\n",
      "Requirement already satisfied: idna<2.8,>=2.5 in /Users/apple/anaconda3/lib/python3.6/site-packages (from requests>=2.11.1->tweepy)\n",
      "Requirement already satisfied: oauthlib>=0.6.2 in /Users/apple/anaconda3/lib/python3.6/site-packages (from requests-oauthlib>=0.7.0->tweepy)\n",
      "\u001b[33mYou are using pip version 9.0.1, however version 18.1 is available.\n",
      "You should consider upgrading via the 'pip install --upgrade pip' command.\u001b[0m\n"
     ]
    }
   ],
   "source": [
    "!pip install tweepy\n",
    "from tweepy.streaming import StreamListener\n",
    "from tweepy import OAuthHandler\n",
    "from tweepy import Stream\n",
    "import json\n",
    "import sys"
   ]
  },
  {
   "cell_type": "code",
   "execution_count": null,
   "metadata": {},
   "outputs": [],
   "source": [
    "# Consumer keys and access tokens, used for OAuth\n",
    "access_token = \t\"980813089233711106-nS2eULtT1W503ynfGrjUehPdO7JHAEZ\"\n",
    "access_token_secret = \"ilddqdyiM04qxbViDTxgfseZAnuIq5UMPAAwuvatGGSwO\"\n",
    "consumer_key = \"RUEhcjitygtqN4dIMX9jzxqUs\"\n",
    "consumer_secret = \"AhCPATwn28bMYoGZw0NThdLiBruBhXepf7fZhpxqQJYT2n6byF\"\n",
    "\n",
    "# OAuth process, using the keys and tokens\n",
    "auth = tweepy.OAuthHandler(consumer_key, consumer_secret)\n",
    "auth.set_access_token(access_token, access_token_secret)\n",
    "\n",
    "# Creation of the actual interface, using authentication\n",
    "api = tweepy.API(auth, wait_on_rate_limit=True)\n",
    "users = []\n",
    "with open(\"../stream_tweet.json\") as f:\n",
    "    for line in f:\n",
    "        try:\n",
    "            line = line[:-1]\n",
    "            if len(line) > 0:\n",
    "                data = json.loads(line)\n",
    "                uid = data[\"user\"][\"id\"]\n",
    "                if uid not in users:\n",
    "                    users.append(uid)\n",
    "                    for tweet in tweepy.Cursor(api.user_timeline, id=uid).items():\n",
    "                        data = tweet._json\n",
    "                        \n",
    "                        keyword = [\"#metoo\",\"#timesup\"]\n",
    "                        if any(x in data[\"text\"].lower()for x in keyword):\n",
    "                            outf = open(\"../search_tweet.json\", 'a+')\n",
    "                            outf.write(json.dumps(data) + \"\\n\")\n",
    "                            outf.close()\n",
    "        except ValueError:\n",
    "            continue\n",
    "        except:\n",
    "            continue"
   ]
  }
 ],
 "metadata": {
  "kernelspec": {
   "display_name": "Python 3",
   "language": "python",
   "name": "python3"
  },
  "language_info": {
   "codemirror_mode": {
    "name": "ipython",
    "version": 3
   },
   "file_extension": ".py",
   "mimetype": "text/x-python",
   "name": "python",
   "nbconvert_exporter": "python",
   "pygments_lexer": "ipython3",
   "version": "3.6.4"
  }
 },
 "nbformat": 4,
 "nbformat_minor": 2
}
