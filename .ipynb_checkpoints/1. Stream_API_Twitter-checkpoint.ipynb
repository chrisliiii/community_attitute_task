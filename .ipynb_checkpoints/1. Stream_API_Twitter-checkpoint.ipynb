{
 "cells": [
  {
   "cell_type": "markdown",
   "metadata": {},
   "source": [
    "# 1. Crawling tweets using stream API\n",
    "\n",
    "## import relevant library"
   ]
  },
  {
   "cell_type": "code",
   "execution_count": 1,
   "metadata": {},
   "outputs": [
    {
     "name": "stdout",
     "output_type": "stream",
     "text": [
      "Requirement already satisfied: tweepy in /Users/apple/anaconda3/lib/python3.6/site-packages\n",
      "Requirement already satisfied: requests-oauthlib>=0.7.0 in /Users/apple/anaconda3/lib/python3.6/site-packages (from tweepy)\n",
      "Requirement already satisfied: six>=1.10.0 in /Users/apple/anaconda3/lib/python3.6/site-packages (from tweepy)\n",
      "Requirement already satisfied: requests>=2.11.1 in /Users/apple/anaconda3/lib/python3.6/site-packages (from tweepy)\n",
      "Requirement already satisfied: PySocks>=1.5.7 in /Users/apple/anaconda3/lib/python3.6/site-packages (from tweepy)\n",
      "Requirement already satisfied: oauthlib>=0.6.2 in /Users/apple/anaconda3/lib/python3.6/site-packages (from requests-oauthlib>=0.7.0->tweepy)\n",
      "Requirement already satisfied: certifi>=2017.4.17 in /Users/apple/anaconda3/lib/python3.6/site-packages (from requests>=2.11.1->tweepy)\n",
      "Requirement already satisfied: urllib3<1.24,>=1.21.1 in /Users/apple/anaconda3/lib/python3.6/site-packages (from requests>=2.11.1->tweepy)\n",
      "Requirement already satisfied: chardet<3.1.0,>=3.0.2 in /Users/apple/anaconda3/lib/python3.6/site-packages (from requests>=2.11.1->tweepy)\n",
      "Requirement already satisfied: idna<2.8,>=2.5 in /Users/apple/anaconda3/lib/python3.6/site-packages (from requests>=2.11.1->tweepy)\n",
      "\u001b[33mYou are using pip version 9.0.1, however version 18.1 is available.\n",
      "You should consider upgrading via the 'pip install --upgrade pip' command.\u001b[0m\n"
     ]
    }
   ],
   "source": [
    "!pip install tweepy\n",
    "\n",
    "from tweepy.streaming import StreamListener\n",
    "from tweepy import OAuthHandler\n",
    "from tweepy import Stream\n",
    "import json\n",
    "import sys"
   ]
  },
  {
   "cell_type": "markdown",
   "metadata": {},
   "source": [
    "## Collect data using stream API\n",
    "\n",
    "For this part, this API is only used for getting real-time tweets, since it has rate limits which means only few tweets will be crawled, so more useful tweets will be collected by using search API which will be used in the second jupyter notebook.\n",
    "\n",
    "The location filter will be done in this part.\n",
    "\n",
    "**Note:** all data are saved in \"stream_tweet.json\"."
   ]
  },
  {
   "cell_type": "code",
   "execution_count": null,
   "metadata": {},
   "outputs": [],
   "source": [
    "#This is a basic listener that just prints received tweets to stdout.\n",
    "class StdOutListener(StreamListener):\n",
    "    def on_data(self, data):\n",
    "        dt = json.loads(data)\n",
    "        \n",
    "        with open('stream_tweet.json', 'r+') as f:\n",
    "            # Write the json data directly to the file\n",
    "            json.dump(dt, f)\n",
    "            # Write a new line\n",
    "            f.write('\\n')  \n",
    "            \n",
    "        print (data)\n",
    "        return True\n",
    "\n",
    "    def on_error(self, status):\n",
    "        print (status)\n",
    "        \n",
    "#Key and access token to access Twitter API\n",
    "access_token = \t\"\"\n",
    "access_token_secret = \"\"\n",
    "consumer_key = \"\"\n",
    "consumer_secret = \"\"\n",
    "\n",
    "#Connect to Twitter Streaming API\n",
    "l = StdOutListener()\n",
    "auth = OAuthHandler(consumer_key, consumer_secret)\n",
    "auth.set_access_token(access_token, access_token_secret)\n",
    "stream = Stream(auth, l)\n",
    "\n",
    "#Filter tweets by location (Victoria)\n",
    "GEOBOX = [141, -39, 150, -34]\n",
    "stream_tweets = stream.filter(locations=GEOBOX) "
   ]
  }
 ],
 "metadata": {
  "kernelspec": {
   "display_name": "Python 3",
   "language": "python",
   "name": "python3"
  },
  "language_info": {
   "codemirror_mode": {
    "name": "ipython",
    "version": 3
   },
   "file_extension": ".py",
   "mimetype": "text/x-python",
   "name": "python",
   "nbconvert_exporter": "python",
   "pygments_lexer": "ipython3",
   "version": "3.6.4"
  }
 },
 "nbformat": 4,
 "nbformat_minor": 2
}
