{
 "cells": [
  {
   "cell_type": "code",
   "execution_count": 1,
   "metadata": {},
   "outputs": [
    {
     "name": "stdout",
     "output_type": "stream",
     "text": [
      "Requirement already satisfied: tweepy in /Users/apple/anaconda3/lib/python3.6/site-packages\n",
      "Requirement already satisfied: PySocks>=1.5.7 in /Users/apple/anaconda3/lib/python3.6/site-packages (from tweepy)\n",
      "Requirement already satisfied: six>=1.10.0 in /Users/apple/anaconda3/lib/python3.6/site-packages (from tweepy)\n",
      "Requirement already satisfied: requests>=2.11.1 in /Users/apple/anaconda3/lib/python3.6/site-packages (from tweepy)\n",
      "Requirement already satisfied: requests-oauthlib>=0.7.0 in /Users/apple/anaconda3/lib/python3.6/site-packages (from tweepy)\n",
      "Requirement already satisfied: urllib3<1.24,>=1.21.1 in /Users/apple/anaconda3/lib/python3.6/site-packages (from requests>=2.11.1->tweepy)\n",
      "Requirement already satisfied: idna<2.8,>=2.5 in /Users/apple/anaconda3/lib/python3.6/site-packages (from requests>=2.11.1->tweepy)\n",
      "Requirement already satisfied: chardet<3.1.0,>=3.0.2 in /Users/apple/anaconda3/lib/python3.6/site-packages (from requests>=2.11.1->tweepy)\n",
      "Requirement already satisfied: certifi>=2017.4.17 in /Users/apple/anaconda3/lib/python3.6/site-packages (from requests>=2.11.1->tweepy)\n",
      "Requirement already satisfied: oauthlib>=0.6.2 in /Users/apple/anaconda3/lib/python3.6/site-packages (from requests-oauthlib>=0.7.0->tweepy)\n",
      "\u001b[33mYou are using pip version 9.0.1, however version 18.1 is available.\n",
      "You should consider upgrading via the 'pip install --upgrade pip' command.\u001b[0m\n"
     ]
    }
   ],
   "source": [
    "!pip install tweepy\n",
    "import tweepy\n",
    "import json\n",
    "import sys"
   ]
  },
  {
   "cell_type": "code",
   "execution_count": null,
   "metadata": {},
   "outputs": [
    {
     "name": "stdout",
     "output_type": "stream",
     "text": [
      "RT @henningsgaard: Here's the article related to the 'Publishing's #metoo Moment?' panel discussion: 'The Sleaze-O-Meter: Sexual Harassment…\n",
      "RT @NathanHollier: Kirsty Wilson compliments ⁦@smallpressau⁩ on staging this event on publishing’s #metoo moment with ⁦@Beth_driscoll⁩ and…\n",
      "RT @BplusPNews: This #indpubcon session on ‘Publisher’s #metoo Moment’ references the Book+Publishing survey on sexual harassment. https://…\n",
      "RT @krONik: Thank heavens we have an old white man from the @LiberalAus/@The_Nationals to #ManSplain #MeToo and terrorism.\n",
      "\n",
      "I feel so much…\n",
      "ライフコーチのトニー・ロビンズ、女性は自分に「特別な意味を持たせる為」に#metoo を利用していると発言。彼の著書には励まされた経験があるのでショック。 https://t.co/MaMJYwLjJr\n",
      "RT @DrMel_T: ‘Brilliant Genius Jerks’ in academia can be any gender....it’s all about power and entitlement #MeTooPhD #metoo https://t.co/w…\n",
      "RT @PetefromHayNSW: Huge inconsistency @PMOnAir about how the Australian Media and #MeToo movement have treated the allegations against @bi…\n",
      "RT @RealJamesWoods: Alaska Airlines pilot accused of rape sues co-pilot, carrier amid 'false #MeToo claims'  https://t.co/QZediXuNN6\n",
      "RT @DuskaSulicich: Great Sunday column from @JacquelineMaley. “Good girls”, politics and #Metoo https://t.co/Bv9iWoidcg via @theage\n",
      "RT @bkjabour: Lots of reasons #MeToo hasn’t taken off in same way in Australia as it has overseas but it is clear our defamation laws prote…\n",
      "RT @oz_f: What does #MeToo mean if music labels and companies like Spotify and Apple are going to keep throwing their support behind violen…\n",
      "RT @jennyyangtv: #🍚🐰\n",
      "\"Chinese feminists found a way around [Weibo blocking #MeToo hash] they began using #RiceBunny in its place along w th…\n",
      "RT @australian: The #MeToo movement has become a shoddy conduit for political causes and trivial episodes, writes @jkalbrechtsen \n",
      "https://t…\n",
      "No, #MeToo is not a sex panic https://t.co/XrW5UCehcV via @voxdotcom\n",
      "RT @abcnews: #BREAKING: @TIME magazine names #MeToo movement as \"Person of the Year\"\n",
      "Rural women and #metoo https://t.co/Ho8dEaLVa4\n",
      "RT @UN_Women: 1 in 3 women and girls experience violence in their lifetime.\n",
      "\n",
      "Even 1 woman is too many. #TimesUp https://t.co/4ly4JGjh3T\n",
      "RT @apbenven: Reminder that if a woman didn't post #MeToo, it doesn't mean she wasn't sexually assaulted or harassed. Survivors don't owe y…\n",
      "RT @johnpmcneil02: In light of #MeToo, a GREAT rule of thumb for anyone wondering if they are getting ready to say something terrible.\n",
      "\n",
      "#St…\n",
      "RT @Louise_Hislop: A local has made these #TimesUpTony tshirts. Demand so high he decided to set up a stall at the markets in Manly today.…\n",
      "@JacquelineMaley fantastic post, again. You’re on a roll :) #metoo\n",
      "RT @ThanthiTV: \"மீடூ என்றால் என்ன..?\" - கோபமடைந்த பாரதிராஜா..\n",
      "#Bharathiraja | #MeToo https://t.co/A2pMgC4vf9\n",
      "RT @RealCandaceO: #MeToo https://t.co/zgAEmgyJ3K\n",
      "RT @DeccanHerald: The latest to be stung by the #MeToo movement is none another than #Bollywood superstar @SrBachchan. Celebrity hairstylis…\n",
      "RT @guardian: Grammys 2018: Bruno Mars wins big while Kesha's #MeToo performance soars https://t.co/LLGUvMCtex\n",
      "Where is #MeToo? \n",
      "Why aren’t they marching?\n",
      "This is a 6 year old girl!\n",
      "Do the feminists think she agreed to this? O… https://t.co/lmxAXBkhbb\n",
      "#TimesUp https://t.co/jpVhZotZBz\n",
      "RT @MrsPress: ICYMI: In the era of #metoo, we’ve had enough. We won’t sit down and we won’t shut up. Thanks for having me i-D https://t.co/…\n",
      "Have you seen the new @Meanjin cover? 👀 #MeToo\n",
      "https://t.co/nCr3TqDZB2\n",
      "RT @TheTodayShow: What does the #MeToo movement mean for men? \n",
      "Author Nikki Gemmell and David Mallard from the Melbourne Men's Group discus…\n",
      "RT @BroedeCarmody: Germaine Greer announces new book in wake of #MeToo backlash https://t.co/Mi5QxsudCQ via @theage\n",
      "Oprah for president, right? #Oprah2020 #timesup https://t.co/bt7Ur9i2eb\n",
      "RT @laureningram: This is how little men understand sexual harassment and sexual assault: they compare #metoo with someone tampering with a…\n",
      "RT @dbrennan577: If #MeToo is “making you uncomfortable”, you’re the one it’s meant to reach. Silencing sexual assault victims doesn’t make…\n",
      "@mark_zita @adamliaw I love crazy....\n",
      "#MeToo #darnedkids @joweatherhead\n",
      "I know nothing about racism in Australia. Thanks @charliepick #metoo @recogniseAU http://t.co/gOhyNj0DJt\n",
      "@marcfennell Superb review. Especially the manly whisky tears #metoo\n",
      "RT @gregolear: Let's talk about how the president is a rapist &amp; a sexual predator.\n",
      "\n",
      "I'd rather not, but after his abominable #MeToo comment…\n",
      "RT @DanielleWarby: “Perhaps #MeToo has finally transcended into the realm of sports, a realm where it is desperately needed” - @_shireenahm…\n",
      "Meanwhile, a cricket writer compares ball tampering to #metoo. NO! https://t.co/TcQewnmSBO\n",
      "RT @gabriellecj: I actually cried reading about Time's #PersonOfTheYear. I'm under no illusion that #MeToo changes everything. But the cour…\n",
      "So proud of everyone taking part in the #TIMESUP movement! 💪\n",
      "RT @OffsidersABC: \"She is doing a terrible disservice to women's rights, to the #metoo movement, to gender equality,\" Caroline Wilson says…\n",
      "#metoo\n",
      "RT @PodSaveThePpl: .@terrycrews discusses his #metoo experience with @deray on this week's Pod\n",
      "\n",
      "Listen: https://t.co/T3iVJsZGnB https://t.c…\n",
      "RT @AriaKit: Please stop interviewing old people about the #metoo movement. I’m tired of hearing their shitty opinions.\n",
      "RT @alexismclaren: So Taylor Swift made the cover of Time’s Person of the Year for the #metoo movement but its creator Tatiana Burke, Rose…\n"
     ]
    }
   ],
   "source": [
    "# Consumer keys and access tokens, used for OAuth\n",
    "access_token = \t\"980813089233711106-nS2eULtT1W503ynfGrjUehPdO7JHAEZ\"\n",
    "access_token_secret = \"ilddqdyiM04qxbViDTxgfseZAnuIq5UMPAAwuvatGGSwO\"\n",
    "consumer_key = \"RUEhcjitygtqN4dIMX9jzxqUs\"\n",
    "consumer_secret = \"AhCPATwn28bMYoGZw0NThdLiBruBhXepf7fZhpxqQJYT2n6byF\"\n",
    "\n",
    "# OAuth process, using the keys and tokens\n",
    "auth = tweepy.OAuthHandler(consumer_key, consumer_secret)\n",
    "auth.set_access_token(access_token, access_token_secret)\n",
    "\n",
    "# Creation of the actual interface, using authentication\n",
    "api = tweepy.API(auth, wait_on_rate_limit=True)\n",
    "users = []\n",
    "with open(\"../stream_tweet.json\") as f:\n",
    "    for line in f:\n",
    "        try:\n",
    "            line = line[:-1]\n",
    "            if len(line) > 0:\n",
    "                data = json.loads(line)\n",
    "                uid = data[\"user\"][\"id\"]\n",
    "                if uid not in users:\n",
    "                    users.append(uid)\n",
    "                    for tweet in tweepy.Cursor(api.user_timeline, id=uid).items():\n",
    "                        data = tweet._json\n",
    "                        \n",
    "                        keywd = [\"#metoo\",\"#timesup\"]\n",
    "                        if any(x in data[\"text\"].lower()for x in keywd):\n",
    "                            print(data[\"text\"])\n",
    "                            outf = open(\"../search_tweet.json\", 'a+')\n",
    "                            outf.write(json.dumps(data) + \"\\n\")\n",
    "                            outf.close()\n",
    "        except ValueError:\n",
    "            continue\n",
    "        except:\n",
    "            continue"
   ]
  },
  {
   "cell_type": "code",
   "execution_count": null,
   "metadata": {},
   "outputs": [],
   "source": []
  }
 ],
 "metadata": {
  "kernelspec": {
   "display_name": "Python 3",
   "language": "python",
   "name": "python3"
  },
  "language_info": {
   "codemirror_mode": {
    "name": "ipython",
    "version": 3
   },
   "file_extension": ".py",
   "mimetype": "text/x-python",
   "name": "python",
   "nbconvert_exporter": "python",
   "pygments_lexer": "ipython3",
   "version": "3.6.4"
  }
 },
 "nbformat": 4,
 "nbformat_minor": 2
}
